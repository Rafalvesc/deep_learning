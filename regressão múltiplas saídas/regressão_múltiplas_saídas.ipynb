{
 "cells": [
  {
   "cell_type": "code",
   "execution_count": 2,
   "metadata": {},
   "outputs": [],
   "source": [
    "import pandas as pd\n",
    "import tensorflow as tf\n",
    "import sklearn\n"
   ]
  },
  {
   "cell_type": "code",
   "execution_count": 4,
   "metadata": {},
   "outputs": [
    {
     "data": {
      "text/plain": [
       "('2.0.3', '2.16.1', '1.5.0')"
      ]
     },
     "execution_count": 4,
     "metadata": {},
     "output_type": "execute_result"
    }
   ],
   "source": [
    "pd.__version__, tf.__version__, sklearn.__version__"
   ]
  },
  {
   "cell_type": "code",
   "execution_count": 5,
   "metadata": {},
   "outputs": [],
   "source": [
    "from tensorflow.keras.layers import Dense, Dropout, Activation, Input\n",
    "from tensorflow.keras.models import Model\n",
    "from sklearn.preprocessing import OneHotEncoder\n",
    "from sklearn.compose import ColumnTransformer"
   ]
  },
  {
   "cell_type": "code",
   "execution_count": 9,
   "metadata": {},
   "outputs": [],
   "source": [
    "base = pd.read_csv('games.csv')"
   ]
  },
  {
   "cell_type": "code",
   "execution_count": 10,
   "metadata": {},
   "outputs": [],
   "source": [
    "base = base.drop('Other_Sales', axis = 1)\n",
    "base = base.drop('Global_Sales', axis = 1)\n",
    "base = base.drop('Developer', axis = 1)"
   ]
  },
  {
   "cell_type": "code",
   "execution_count": 11,
   "metadata": {},
   "outputs": [
    {
     "data": {
      "text/plain": [
       "(16719, 13)"
      ]
     },
     "execution_count": 11,
     "metadata": {},
     "output_type": "execute_result"
    }
   ],
   "source": [
    "base.shape"
   ]
  },
  {
   "cell_type": "code",
   "execution_count": 12,
   "metadata": {},
   "outputs": [
    {
     "data": {
      "text/plain": [
       "Name                  2\n",
       "Platform              0\n",
       "Year_of_Release     269\n",
       "Genre                 2\n",
       "Publisher            54\n",
       "NA_Sales              0\n",
       "EU_Sales              0\n",
       "JP_Sales              0\n",
       "Critic_Score       8582\n",
       "Critic_Count       8582\n",
       "User_Score         6704\n",
       "User_Count         9129\n",
       "Rating             6769\n",
       "dtype: int64"
      ]
     },
     "execution_count": 12,
     "metadata": {},
     "output_type": "execute_result"
    }
   ],
   "source": [
    "base.isnull().sum()"
   ]
  },
  {
   "cell_type": "code",
   "execution_count": 13,
   "metadata": {},
   "outputs": [],
   "source": [
    "base = base.dropna(axis = 0)"
   ]
  },
  {
   "cell_type": "code",
   "execution_count": 14,
   "metadata": {},
   "outputs": [
    {
     "data": {
      "text/plain": [
       "(6825, 13)"
      ]
     },
     "execution_count": 14,
     "metadata": {},
     "output_type": "execute_result"
    }
   ],
   "source": [
    "base.shape"
   ]
  },
  {
   "cell_type": "code",
   "execution_count": 15,
   "metadata": {},
   "outputs": [
    {
     "data": {
      "text/plain": [
       "Name               0\n",
       "Platform           0\n",
       "Year_of_Release    0\n",
       "Genre              0\n",
       "Publisher          0\n",
       "NA_Sales           0\n",
       "EU_Sales           0\n",
       "JP_Sales           0\n",
       "Critic_Score       0\n",
       "Critic_Count       0\n",
       "User_Score         0\n",
       "User_Count         0\n",
       "Rating             0\n",
       "dtype: int64"
      ]
     },
     "execution_count": 15,
     "metadata": {},
     "output_type": "execute_result"
    }
   ],
   "source": [
    "base.isnull().sum()"
   ]
  },
  {
   "cell_type": "code",
   "execution_count": 16,
   "metadata": {},
   "outputs": [
    {
     "data": {
      "text/plain": [
       "Name\n",
       "Need for Speed: Most Wanted                  8\n",
       "Madden NFL 07                                8\n",
       "LEGO Star Wars II: The Original Trilogy      8\n",
       "The Sims 2                                   7\n",
       "Terraria                                     7\n",
       "                                            ..\n",
       "Castlevania: Portrait of Ruin                1\n",
       "Suzuki TT Superbikes                         1\n",
       "Rumble Roses                                 1\n",
       "Sherlock Holmes: The Mystery of the Mummy    1\n",
       "STORM: Frontline Nation                      1\n",
       "Name: count, Length: 4377, dtype: int64"
      ]
     },
     "execution_count": 16,
     "metadata": {},
     "output_type": "execute_result"
    }
   ],
   "source": [
    "base ['Name']. value_counts()"
   ]
  },
  {
   "cell_type": "code",
   "execution_count": 17,
   "metadata": {},
   "outputs": [],
   "source": [
    "base = base.drop('Name', axis = 1)"
   ]
  },
  {
   "cell_type": "code",
   "execution_count": 18,
   "metadata": {},
   "outputs": [
    {
     "data": {
      "text/plain": [
       "(6825, 12)"
      ]
     },
     "execution_count": 18,
     "metadata": {},
     "output_type": "execute_result"
    }
   ],
   "source": [
    "base.shape"
   ]
  },
  {
   "cell_type": "code",
   "execution_count": 22,
   "metadata": {},
   "outputs": [],
   "source": [
    "X = base.iloc[:, [0, 1, 2, 3, 7, 8, 9, 10, 11]].values"
   ]
  },
  {
   "cell_type": "code",
   "execution_count": 23,
   "metadata": {},
   "outputs": [],
   "source": [
    "y_na = base.iloc[:,4].values\n",
    "y_eu = base.iloc[:,5].values\n",
    "y_jp = base.iloc[:,6].values"
   ]
  },
  {
   "cell_type": "code",
   "execution_count": 24,
   "metadata": {},
   "outputs": [
    {
     "data": {
      "text/plain": [
       "array([4.136e+01, 1.568e+01, 1.561e+01, ..., 0.000e+00, 1.000e-02,\n",
       "       0.000e+00])"
      ]
     },
     "execution_count": 24,
     "metadata": {},
     "output_type": "execute_result"
    }
   ],
   "source": [
    "y_na"
   ]
  },
  {
   "cell_type": "code",
   "execution_count": 25,
   "metadata": {},
   "outputs": [
    {
     "data": {
      "text/plain": [
       "array([2.896e+01, 1.276e+01, 1.093e+01, ..., 1.000e-02, 0.000e+00,\n",
       "       1.000e-02])"
      ]
     },
     "execution_count": 25,
     "metadata": {},
     "output_type": "execute_result"
    }
   ],
   "source": [
    "y_eu"
   ]
  },
  {
   "cell_type": "code",
   "execution_count": 26,
   "metadata": {},
   "outputs": [
    {
     "data": {
      "text/plain": [
       "array([3.77, 3.79, 3.28, ..., 0.  , 0.  , 0.  ])"
      ]
     },
     "execution_count": 26,
     "metadata": {},
     "output_type": "execute_result"
    }
   ],
   "source": [
    "y_jp"
   ]
  },
  {
   "cell_type": "code",
   "execution_count": 28,
   "metadata": {},
   "outputs": [
    {
     "data": {
      "text/plain": [
       "Platform\n",
       "PS2     1140\n",
       "X360     858\n",
       "PS3      769\n",
       "PC       651\n",
       "XB       565\n",
       "Wii      479\n",
       "DS       464\n",
       "PSP      390\n",
       "GC       348\n",
       "PS4      239\n",
       "GBA      237\n",
       "XOne     159\n",
       "3DS      155\n",
       "PS       150\n",
       "PSV      118\n",
       "WiiU      89\n",
       "DC        14\n",
       "Name: count, dtype: int64"
      ]
     },
     "execution_count": 28,
     "metadata": {},
     "output_type": "execute_result"
    }
   ],
   "source": [
    "base['Platform'].value_counts()"
   ]
  },
  {
   "cell_type": "code",
   "execution_count": 30,
   "metadata": {},
   "outputs": [],
   "source": [
    "onehotencoder = ColumnTransformer(transformers=[('OneHot', OneHotEncoder(), [0, 2, 3, 8])], remainder = 'passthrough')\n",
    "X = onehotencoder.fit_transform(X).toarray()"
   ]
  },
  {
   "cell_type": "code",
   "execution_count": 33,
   "metadata": {},
   "outputs": [
    {
     "data": {
      "text/plain": [
       "153.0"
      ]
     },
     "execution_count": 33,
     "metadata": {},
     "output_type": "execute_result"
    }
   ],
   "source": [
    "(303 + 3)/ 2"
   ]
  },
  {
   "cell_type": "code",
   "execution_count": 34,
   "metadata": {},
   "outputs": [],
   "source": [
    "camada_entrada = Input(shape = (303,))\n",
    "camada_oculta1 = Dense(units = 153, activation = 'relu')(camada_entrada)\n",
    "camada_oculta2 = Dense(units = 153, activation = 'relu')(camada_oculta1)\n",
    "camada_saida1 = Dense(units = 1, activation = 'linear')(camada_oculta2)\n",
    "camada_saida2 = Dense(units = 1, activation = 'linear')(camada_oculta2)\n",
    "camada_saida3 = Dense(units = 1, activation = 'linear')(camada_oculta2)"
   ]
  },
  {
   "cell_type": "code",
   "execution_count": 35,
   "metadata": {},
   "outputs": [],
   "source": [
    "regressor = Model(inputs = camada_entrada, outputs = [camada_saida1, camada_saida2, camada_saida3])"
   ]
  },
  {
   "cell_type": "code",
   "execution_count": 37,
   "metadata": {},
   "outputs": [],
   "source": [
    "regressor.compile(optimizer='adam', loss = 'mse')"
   ]
  },
  {
   "cell_type": "markdown",
   "metadata": {},
   "source": [
    "epochs = 500"
   ]
  },
  {
   "cell_type": "code",
   "execution_count": 38,
   "metadata": {},
   "outputs": [
    {
     "name": "stdout",
     "output_type": "stream",
     "text": [
      "Epoch 1/100\n",
      "\u001b[1m69/69\u001b[0m \u001b[32m━━━━━━━━━━━━━━━━━━━━\u001b[0m\u001b[37m\u001b[0m \u001b[1m2s\u001b[0m 2ms/step - dense_2_loss: 1533.9626 - dense_3_loss: 783.6218 - dense_4_loss: 2023.2482 - loss: 4341.2935  \n",
      "Epoch 2/100\n",
      "\u001b[1m69/69\u001b[0m \u001b[32m━━━━━━━━━━━━━━━━━━━━\u001b[0m\u001b[37m\u001b[0m \u001b[1m0s\u001b[0m 2ms/step - dense_2_loss: 2.2611 - dense_3_loss: 2.1944 - dense_4_loss: 2.6257 - loss: 7.0822\n",
      "Epoch 3/100\n",
      "\u001b[1m69/69\u001b[0m \u001b[32m━━━━━━━━━━━━━━━━━━━━\u001b[0m\u001b[37m\u001b[0m \u001b[1m0s\u001b[0m 2ms/step - dense_2_loss: 1.4965 - dense_3_loss: 1.0512 - dense_4_loss: 1.0851 - loss: 3.6328\n",
      "Epoch 4/100\n",
      "\u001b[1m69/69\u001b[0m \u001b[32m━━━━━━━━━━━━━━━━━━━━\u001b[0m\u001b[37m\u001b[0m \u001b[1m0s\u001b[0m 2ms/step - dense_2_loss: 1.8210 - dense_3_loss: 1.1903 - dense_4_loss: 0.8149 - loss: 3.8267\n",
      "Epoch 5/100\n",
      "\u001b[1m69/69\u001b[0m \u001b[32m━━━━━━━━━━━━━━━━━━━━\u001b[0m\u001b[37m\u001b[0m \u001b[1m0s\u001b[0m 2ms/step - dense_2_loss: 0.9595 - dense_3_loss: 0.6097 - dense_4_loss: 0.8608 - loss: 2.4305\n",
      "Epoch 6/100\n",
      "\u001b[1m69/69\u001b[0m \u001b[32m━━━━━━━━━━━━━━━━━━━━\u001b[0m\u001b[37m\u001b[0m \u001b[1m0s\u001b[0m 2ms/step - dense_2_loss: 0.8118 - dense_3_loss: 0.5142 - dense_4_loss: 0.8862 - loss: 2.2126\n",
      "Epoch 7/100\n",
      "\u001b[1m69/69\u001b[0m \u001b[32m━━━━━━━━━━━━━━━━━━━━\u001b[0m\u001b[37m\u001b[0m \u001b[1m0s\u001b[0m 2ms/step - dense_2_loss: 0.7899 - dense_3_loss: 0.5150 - dense_4_loss: 0.8359 - loss: 2.1397\n",
      "Epoch 8/100\n",
      "\u001b[1m69/69\u001b[0m \u001b[32m━━━━━━━━━━━━━━━━━━━━\u001b[0m\u001b[37m\u001b[0m \u001b[1m0s\u001b[0m 3ms/step - dense_2_loss: 1.0758 - dense_3_loss: 0.6931 - dense_4_loss: 1.9028 - loss: 3.6706\n",
      "Epoch 9/100\n",
      "\u001b[1m69/69\u001b[0m \u001b[32m━━━━━━━━━━━━━━━━━━━━\u001b[0m\u001b[37m\u001b[0m \u001b[1m0s\u001b[0m 2ms/step - dense_2_loss: 1.7884 - dense_3_loss: 1.7001 - dense_4_loss: 6.1820 - loss: 9.6741\n",
      "Epoch 10/100\n",
      "\u001b[1m69/69\u001b[0m \u001b[32m━━━━━━━━━━━━━━━━━━━━\u001b[0m\u001b[37m\u001b[0m \u001b[1m0s\u001b[0m 2ms/step - dense_2_loss: 2.2430 - dense_3_loss: 4.0663 - dense_4_loss: 1.4435 - loss: 7.7542\n",
      "Epoch 11/100\n",
      "\u001b[1m69/69\u001b[0m \u001b[32m━━━━━━━━━━━━━━━━━━━━\u001b[0m\u001b[37m\u001b[0m \u001b[1m0s\u001b[0m 3ms/step - dense_2_loss: 1.1097 - dense_3_loss: 0.6071 - dense_4_loss: 1.2067 - loss: 2.9239\n",
      "Epoch 12/100\n",
      "\u001b[1m69/69\u001b[0m \u001b[32m━━━━━━━━━━━━━━━━━━━━\u001b[0m\u001b[37m\u001b[0m \u001b[1m0s\u001b[0m 2ms/step - dense_2_loss: 0.9350 - dense_3_loss: 0.4786 - dense_4_loss: 1.9089 - loss: 3.3232\n",
      "Epoch 13/100\n",
      "\u001b[1m69/69\u001b[0m \u001b[32m━━━━━━━━━━━━━━━━━━━━\u001b[0m\u001b[37m\u001b[0m \u001b[1m0s\u001b[0m 2ms/step - dense_2_loss: 1.1797 - dense_3_loss: 0.7999 - dense_4_loss: 0.8671 - loss: 2.8472\n",
      "Epoch 14/100\n",
      "\u001b[1m69/69\u001b[0m \u001b[32m━━━━━━━━━━━━━━━━━━━━\u001b[0m\u001b[37m\u001b[0m \u001b[1m0s\u001b[0m 2ms/step - dense_2_loss: 1.7263 - dense_3_loss: 0.8821 - dense_4_loss: 1.5114 - loss: 4.1213\n",
      "Epoch 15/100\n",
      "\u001b[1m69/69\u001b[0m \u001b[32m━━━━━━━━━━━━━━━━━━━━\u001b[0m\u001b[37m\u001b[0m \u001b[1m0s\u001b[0m 3ms/step - dense_2_loss: 1.5228 - dense_3_loss: 0.9249 - dense_4_loss: 6.4716 - loss: 8.9205\n",
      "Epoch 16/100\n",
      "\u001b[1m69/69\u001b[0m \u001b[32m━━━━━━━━━━━━━━━━━━━━\u001b[0m\u001b[37m\u001b[0m \u001b[1m0s\u001b[0m 2ms/step - dense_2_loss: 1.1257 - dense_3_loss: 1.0767 - dense_4_loss: 1.1642 - loss: 3.3670\n",
      "Epoch 17/100\n",
      "\u001b[1m69/69\u001b[0m \u001b[32m━━━━━━━━━━━━━━━━━━━━\u001b[0m\u001b[37m\u001b[0m \u001b[1m0s\u001b[0m 2ms/step - dense_2_loss: 3.1289 - dense_3_loss: 1.5257 - dense_4_loss: 1.6569 - loss: 6.3139\n",
      "Epoch 18/100\n",
      "\u001b[1m69/69\u001b[0m \u001b[32m━━━━━━━━━━━━━━━━━━━━\u001b[0m\u001b[37m\u001b[0m \u001b[1m0s\u001b[0m 3ms/step - dense_2_loss: 3.4510 - dense_3_loss: 3.5610 - dense_4_loss: 11.3885 - loss: 18.4031\n",
      "Epoch 19/100\n",
      "\u001b[1m69/69\u001b[0m \u001b[32m━━━━━━━━━━━━━━━━━━━━\u001b[0m\u001b[37m\u001b[0m \u001b[1m0s\u001b[0m 3ms/step - dense_2_loss: 1.7463 - dense_3_loss: 0.7807 - dense_4_loss: 3.3094 - loss: 5.8343\n",
      "Epoch 20/100\n",
      "\u001b[1m69/69\u001b[0m \u001b[32m━━━━━━━━━━━━━━━━━━━━\u001b[0m\u001b[37m\u001b[0m \u001b[1m0s\u001b[0m 2ms/step - dense_2_loss: 25.4801 - dense_3_loss: 17.6370 - dense_4_loss: 86.6946 - loss: 129.8473\n",
      "Epoch 21/100\n",
      "\u001b[1m69/69\u001b[0m \u001b[32m━━━━━━━━━━━━━━━━━━━━\u001b[0m\u001b[37m\u001b[0m \u001b[1m0s\u001b[0m 3ms/step - dense_2_loss: 7.1817 - dense_3_loss: 6.3408 - dense_4_loss: 2.5882 - loss: 16.1136\n",
      "Epoch 22/100\n",
      "\u001b[1m69/69\u001b[0m \u001b[32m━━━━━━━━━━━━━━━━━━━━\u001b[0m\u001b[37m\u001b[0m \u001b[1m0s\u001b[0m 3ms/step - dense_2_loss: 1.3065 - dense_3_loss: 0.6981 - dense_4_loss: 0.2790 - loss: 2.2840\n",
      "Epoch 23/100\n",
      "\u001b[1m69/69\u001b[0m \u001b[32m━━━━━━━━━━━━━━━━━━━━\u001b[0m\u001b[37m\u001b[0m \u001b[1m0s\u001b[0m 2ms/step - dense_2_loss: 2.7984 - dense_3_loss: 1.5186 - dense_4_loss: 0.4785 - loss: 4.7960\n",
      "Epoch 24/100\n",
      "\u001b[1m69/69\u001b[0m \u001b[32m━━━━━━━━━━━━━━━━━━━━\u001b[0m\u001b[37m\u001b[0m \u001b[1m0s\u001b[0m 2ms/step - dense_2_loss: 2.1726 - dense_3_loss: 0.8004 - dense_4_loss: 0.7480 - loss: 3.7214\n",
      "Epoch 25/100\n",
      "\u001b[1m69/69\u001b[0m \u001b[32m━━━━━━━━━━━━━━━━━━━━\u001b[0m\u001b[37m\u001b[0m \u001b[1m0s\u001b[0m 2ms/step - dense_2_loss: 1.1588 - dense_3_loss: 0.6007 - dense_4_loss: 0.2803 - loss: 2.0401\n",
      "Epoch 26/100\n",
      "\u001b[1m69/69\u001b[0m \u001b[32m━━━━━━━━━━━━━━━━━━━━\u001b[0m\u001b[37m\u001b[0m \u001b[1m0s\u001b[0m 2ms/step - dense_2_loss: 0.7119 - dense_3_loss: 0.4714 - dense_4_loss: 0.1659 - loss: 1.3492\n",
      "Epoch 27/100\n",
      "\u001b[1m69/69\u001b[0m \u001b[32m━━━━━━━━━━━━━━━━━━━━\u001b[0m\u001b[37m\u001b[0m \u001b[1m0s\u001b[0m 2ms/step - dense_2_loss: 0.8970 - dense_3_loss: 0.6100 - dense_4_loss: 0.1506 - loss: 1.6579\n",
      "Epoch 28/100\n",
      "\u001b[1m69/69\u001b[0m \u001b[32m━━━━━━━━━━━━━━━━━━━━\u001b[0m\u001b[37m\u001b[0m \u001b[1m0s\u001b[0m 2ms/step - dense_2_loss: 0.5470 - dense_3_loss: 0.3922 - dense_4_loss: 0.1579 - loss: 1.0972\n",
      "Epoch 29/100\n",
      "\u001b[1m69/69\u001b[0m \u001b[32m━━━━━━━━━━━━━━━━━━━━\u001b[0m\u001b[37m\u001b[0m \u001b[1m0s\u001b[0m 3ms/step - dense_2_loss: 1.4418 - dense_3_loss: 0.6518 - dense_4_loss: 0.2471 - loss: 2.3414\n",
      "Epoch 30/100\n",
      "\u001b[1m69/69\u001b[0m \u001b[32m━━━━━━━━━━━━━━━━━━━━\u001b[0m\u001b[37m\u001b[0m \u001b[1m0s\u001b[0m 2ms/step - dense_2_loss: 1.7403 - dense_3_loss: 0.7110 - dense_4_loss: 0.5935 - loss: 3.0456\n",
      "Epoch 31/100\n",
      "\u001b[1m69/69\u001b[0m \u001b[32m━━━━━━━━━━━━━━━━━━━━\u001b[0m\u001b[37m\u001b[0m \u001b[1m0s\u001b[0m 2ms/step - dense_2_loss: 1.2636 - dense_3_loss: 0.6213 - dense_4_loss: 0.2129 - loss: 2.0974\n",
      "Epoch 32/100\n",
      "\u001b[1m69/69\u001b[0m \u001b[32m━━━━━━━━━━━━━━━━━━━━\u001b[0m\u001b[37m\u001b[0m \u001b[1m0s\u001b[0m 3ms/step - dense_2_loss: 2.0192 - dense_3_loss: 1.1295 - dense_4_loss: 0.4806 - loss: 3.6299\n",
      "Epoch 33/100\n",
      "\u001b[1m69/69\u001b[0m \u001b[32m━━━━━━━━━━━━━━━━━━━━\u001b[0m\u001b[37m\u001b[0m \u001b[1m0s\u001b[0m 3ms/step - dense_2_loss: 1.2571 - dense_3_loss: 0.6181 - dense_4_loss: 0.3320 - loss: 2.2078\n",
      "Epoch 34/100\n",
      "\u001b[1m69/69\u001b[0m \u001b[32m━━━━━━━━━━━━━━━━━━━━\u001b[0m\u001b[37m\u001b[0m \u001b[1m0s\u001b[0m 2ms/step - dense_2_loss: 1.8372 - dense_3_loss: 0.8939 - dense_4_loss: 0.3465 - loss: 3.0774\n",
      "Epoch 35/100\n",
      "\u001b[1m69/69\u001b[0m \u001b[32m━━━━━━━━━━━━━━━━━━━━\u001b[0m\u001b[37m\u001b[0m \u001b[1m0s\u001b[0m 2ms/step - dense_2_loss: 5.2552 - dense_3_loss: 1.2090 - dense_4_loss: 1.5763 - loss: 8.0422\n",
      "Epoch 36/100\n",
      "\u001b[1m69/69\u001b[0m \u001b[32m━━━━━━━━━━━━━━━━━━━━\u001b[0m\u001b[37m\u001b[0m \u001b[1m0s\u001b[0m 2ms/step - dense_2_loss: 4.0569 - dense_3_loss: 1.6025 - dense_4_loss: 1.2967 - loss: 6.9572\n",
      "Epoch 37/100\n",
      "\u001b[1m69/69\u001b[0m \u001b[32m━━━━━━━━━━━━━━━━━━━━\u001b[0m\u001b[37m\u001b[0m \u001b[1m0s\u001b[0m 3ms/step - dense_2_loss: 1.6502 - dense_3_loss: 1.5900 - dense_4_loss: 0.3552 - loss: 3.5956\n",
      "Epoch 38/100\n",
      "\u001b[1m69/69\u001b[0m \u001b[32m━━━━━━━━━━━━━━━━━━━━\u001b[0m\u001b[37m\u001b[0m \u001b[1m0s\u001b[0m 2ms/step - dense_2_loss: 1.9743 - dense_3_loss: 0.5297 - dense_4_loss: 0.3664 - loss: 2.8709\n",
      "Epoch 39/100\n",
      "\u001b[1m69/69\u001b[0m \u001b[32m━━━━━━━━━━━━━━━━━━━━\u001b[0m\u001b[37m\u001b[0m \u001b[1m0s\u001b[0m 2ms/step - dense_2_loss: 0.9510 - dense_3_loss: 0.6028 - dense_4_loss: 0.3831 - loss: 1.9370\n",
      "Epoch 40/100\n",
      "\u001b[1m69/69\u001b[0m \u001b[32m━━━━━━━━━━━━━━━━━━━━\u001b[0m\u001b[37m\u001b[0m \u001b[1m0s\u001b[0m 2ms/step - dense_2_loss: 1.2828 - dense_3_loss: 0.5471 - dense_4_loss: 0.4504 - loss: 2.2812\n",
      "Epoch 41/100\n",
      "\u001b[1m69/69\u001b[0m \u001b[32m━━━━━━━━━━━━━━━━━━━━\u001b[0m\u001b[37m\u001b[0m \u001b[1m0s\u001b[0m 2ms/step - dense_2_loss: 16.0205 - dense_3_loss: 3.5368 - dense_4_loss: 4.4147 - loss: 23.9780\n",
      "Epoch 42/100\n",
      "\u001b[1m69/69\u001b[0m \u001b[32m━━━━━━━━━━━━━━━━━━━━\u001b[0m\u001b[37m\u001b[0m \u001b[1m0s\u001b[0m 4ms/step - dense_2_loss: 1.5332 - dense_3_loss: 1.3445 - dense_4_loss: 0.4559 - loss: 3.3344\n",
      "Epoch 43/100\n",
      "\u001b[1m69/69\u001b[0m \u001b[32m━━━━━━━━━━━━━━━━━━━━\u001b[0m\u001b[37m\u001b[0m \u001b[1m0s\u001b[0m 4ms/step - dense_2_loss: 0.6771 - dense_3_loss: 0.5827 - dense_4_loss: 0.1068 - loss: 1.3664\n",
      "Epoch 44/100\n",
      "\u001b[1m69/69\u001b[0m \u001b[32m━━━━━━━━━━━━━━━━━━━━\u001b[0m\u001b[37m\u001b[0m \u001b[1m0s\u001b[0m 3ms/step - dense_2_loss: 1.1221 - dense_3_loss: 0.8078 - dense_4_loss: 0.3556 - loss: 2.2861\n",
      "Epoch 45/100\n",
      "\u001b[1m69/69\u001b[0m \u001b[32m━━━━━━━━━━━━━━━━━━━━\u001b[0m\u001b[37m\u001b[0m \u001b[1m0s\u001b[0m 3ms/step - dense_2_loss: 1.0188 - dense_3_loss: 0.6385 - dense_4_loss: 0.1369 - loss: 1.7943\n",
      "Epoch 46/100\n",
      "\u001b[1m69/69\u001b[0m \u001b[32m━━━━━━━━━━━━━━━━━━━━\u001b[0m\u001b[37m\u001b[0m \u001b[1m0s\u001b[0m 3ms/step - dense_2_loss: 1.2650 - dense_3_loss: 0.5733 - dense_4_loss: 0.2860 - loss: 2.1247\n",
      "Epoch 47/100\n",
      "\u001b[1m69/69\u001b[0m \u001b[32m━━━━━━━━━━━━━━━━━━━━\u001b[0m\u001b[37m\u001b[0m \u001b[1m0s\u001b[0m 3ms/step - dense_2_loss: 1.4077 - dense_3_loss: 0.7515 - dense_4_loss: 0.4710 - loss: 2.6305\n",
      "Epoch 48/100\n",
      "\u001b[1m69/69\u001b[0m \u001b[32m━━━━━━━━━━━━━━━━━━━━\u001b[0m\u001b[37m\u001b[0m \u001b[1m0s\u001b[0m 3ms/step - dense_2_loss: 2.2793 - dense_3_loss: 1.2951 - dense_4_loss: 0.7672 - loss: 4.3419\n",
      "Epoch 49/100\n",
      "\u001b[1m69/69\u001b[0m \u001b[32m━━━━━━━━━━━━━━━━━━━━\u001b[0m\u001b[37m\u001b[0m \u001b[1m0s\u001b[0m 3ms/step - dense_2_loss: 1.4142 - dense_3_loss: 0.6479 - dense_4_loss: 0.2360 - loss: 2.2984\n",
      "Epoch 50/100\n",
      "\u001b[1m69/69\u001b[0m \u001b[32m━━━━━━━━━━━━━━━━━━━━\u001b[0m\u001b[37m\u001b[0m \u001b[1m0s\u001b[0m 4ms/step - dense_2_loss: 0.9832 - dense_3_loss: 0.6377 - dense_4_loss: 0.1955 - loss: 1.8167\n",
      "Epoch 51/100\n",
      "\u001b[1m69/69\u001b[0m \u001b[32m━━━━━━━━━━━━━━━━━━━━\u001b[0m\u001b[37m\u001b[0m \u001b[1m0s\u001b[0m 3ms/step - dense_2_loss: 2.0577 - dense_3_loss: 1.8350 - dense_4_loss: 1.0039 - loss: 4.8973\n",
      "Epoch 52/100\n",
      "\u001b[1m69/69\u001b[0m \u001b[32m━━━━━━━━━━━━━━━━━━━━\u001b[0m\u001b[37m\u001b[0m \u001b[1m0s\u001b[0m 3ms/step - dense_2_loss: 1.7638 - dense_3_loss: 0.9248 - dense_4_loss: 0.9247 - loss: 3.6139\n",
      "Epoch 53/100\n",
      "\u001b[1m69/69\u001b[0m \u001b[32m━━━━━━━━━━━━━━━━━━━━\u001b[0m\u001b[37m\u001b[0m \u001b[1m0s\u001b[0m 3ms/step - dense_2_loss: 3.9645 - dense_3_loss: 2.4360 - dense_4_loss: 1.4145 - loss: 7.8160\n",
      "Epoch 54/100\n",
      "\u001b[1m69/69\u001b[0m \u001b[32m━━━━━━━━━━━━━━━━━━━━\u001b[0m\u001b[37m\u001b[0m \u001b[1m0s\u001b[0m 3ms/step - dense_2_loss: 1.5813 - dense_3_loss: 1.5063 - dense_4_loss: 0.7150 - loss: 3.8038\n",
      "Epoch 55/100\n",
      "\u001b[1m69/69\u001b[0m \u001b[32m━━━━━━━━━━━━━━━━━━━━\u001b[0m\u001b[37m\u001b[0m \u001b[1m0s\u001b[0m 3ms/step - dense_2_loss: 2.0810 - dense_3_loss: 0.9251 - dense_4_loss: 0.5136 - loss: 3.5206\n",
      "Epoch 56/100\n",
      "\u001b[1m69/69\u001b[0m \u001b[32m━━━━━━━━━━━━━━━━━━━━\u001b[0m\u001b[37m\u001b[0m \u001b[1m0s\u001b[0m 3ms/step - dense_2_loss: 0.8408 - dense_3_loss: 1.0645 - dense_4_loss: 0.4076 - loss: 2.3124\n",
      "Epoch 57/100\n",
      "\u001b[1m69/69\u001b[0m \u001b[32m━━━━━━━━━━━━━━━━━━━━\u001b[0m\u001b[37m\u001b[0m \u001b[1m0s\u001b[0m 3ms/step - dense_2_loss: 3.8974 - dense_3_loss: 2.9350 - dense_4_loss: 2.0140 - loss: 8.8476\n",
      "Epoch 58/100\n",
      "\u001b[1m69/69\u001b[0m \u001b[32m━━━━━━━━━━━━━━━━━━━━\u001b[0m\u001b[37m\u001b[0m \u001b[1m0s\u001b[0m 2ms/step - dense_2_loss: 4.9529 - dense_3_loss: 1.6316 - dense_4_loss: 1.5616 - loss: 8.1482\n",
      "Epoch 59/100\n",
      "\u001b[1m69/69\u001b[0m \u001b[32m━━━━━━━━━━━━━━━━━━━━\u001b[0m\u001b[37m\u001b[0m \u001b[1m0s\u001b[0m 3ms/step - dense_2_loss: 4.3061 - dense_3_loss: 1.5459 - dense_4_loss: 1.8917 - loss: 7.7448\n",
      "Epoch 60/100\n",
      "\u001b[1m69/69\u001b[0m \u001b[32m━━━━━━━━━━━━━━━━━━━━\u001b[0m\u001b[37m\u001b[0m \u001b[1m0s\u001b[0m 3ms/step - dense_2_loss: 1.2207 - dense_3_loss: 0.5026 - dense_4_loss: 0.9391 - loss: 2.6622\n",
      "Epoch 61/100\n",
      "\u001b[1m69/69\u001b[0m \u001b[32m━━━━━━━━━━━━━━━━━━━━\u001b[0m\u001b[37m\u001b[0m \u001b[1m0s\u001b[0m 2ms/step - dense_2_loss: 1.1444 - dense_3_loss: 0.9379 - dense_4_loss: 0.6571 - loss: 2.7397\n",
      "Epoch 62/100\n",
      "\u001b[1m69/69\u001b[0m \u001b[32m━━━━━━━━━━━━━━━━━━━━\u001b[0m\u001b[37m\u001b[0m \u001b[1m0s\u001b[0m 5ms/step - dense_2_loss: 1.0191 - dense_3_loss: 0.7061 - dense_4_loss: 0.1868 - loss: 1.9124\n",
      "Epoch 63/100\n",
      "\u001b[1m69/69\u001b[0m \u001b[32m━━━━━━━━━━━━━━━━━━━━\u001b[0m\u001b[37m\u001b[0m \u001b[1m1s\u001b[0m 8ms/step - dense_2_loss: 1.0519 - dense_3_loss: 0.5338 - dense_4_loss: 0.5829 - loss: 2.1689\n",
      "Epoch 64/100\n",
      "\u001b[1m69/69\u001b[0m \u001b[32m━━━━━━━━━━━━━━━━━━━━\u001b[0m\u001b[37m\u001b[0m \u001b[1m1s\u001b[0m 7ms/step - dense_2_loss: 0.9420 - dense_3_loss: 0.5143 - dense_4_loss: 0.3308 - loss: 1.7870\n",
      "Epoch 65/100\n",
      "\u001b[1m69/69\u001b[0m \u001b[32m━━━━━━━━━━━━━━━━━━━━\u001b[0m\u001b[37m\u001b[0m \u001b[1m1s\u001b[0m 7ms/step - dense_2_loss: 1.1215 - dense_3_loss: 0.8148 - dense_4_loss: 1.4219 - loss: 3.3591\n",
      "Epoch 66/100\n",
      "\u001b[1m69/69\u001b[0m \u001b[32m━━━━━━━━━━━━━━━━━━━━\u001b[0m\u001b[37m\u001b[0m \u001b[1m1s\u001b[0m 7ms/step - dense_2_loss: 1.2850 - dense_3_loss: 0.7431 - dense_4_loss: 2.1661 - loss: 4.1950\n",
      "Epoch 67/100\n",
      "\u001b[1m69/69\u001b[0m \u001b[32m━━━━━━━━━━━━━━━━━━━━\u001b[0m\u001b[37m\u001b[0m \u001b[1m1s\u001b[0m 7ms/step - dense_2_loss: 1.7401 - dense_3_loss: 1.1792 - dense_4_loss: 4.2036 - loss: 7.1238\n",
      "Epoch 68/100\n",
      "\u001b[1m69/69\u001b[0m \u001b[32m━━━━━━━━━━━━━━━━━━━━\u001b[0m\u001b[37m\u001b[0m \u001b[1m1s\u001b[0m 7ms/step - dense_2_loss: 2.0870 - dense_3_loss: 1.7602 - dense_4_loss: 37.3981 - loss: 41.2590\n",
      "Epoch 69/100\n",
      "\u001b[1m69/69\u001b[0m \u001b[32m━━━━━━━━━━━━━━━━━━━━\u001b[0m\u001b[37m\u001b[0m \u001b[1m1s\u001b[0m 7ms/step - dense_2_loss: 2.6652 - dense_3_loss: 4.5712 - dense_4_loss: 6.7059 - loss: 13.9446\n",
      "Epoch 70/100\n",
      "\u001b[1m69/69\u001b[0m \u001b[32m━━━━━━━━━━━━━━━━━━━━\u001b[0m\u001b[37m\u001b[0m \u001b[1m1s\u001b[0m 7ms/step - dense_2_loss: 0.6274 - dense_3_loss: 0.4892 - dense_4_loss: 0.3165 - loss: 1.4324\n",
      "Epoch 71/100\n",
      "\u001b[1m69/69\u001b[0m \u001b[32m━━━━━━━━━━━━━━━━━━━━\u001b[0m\u001b[37m\u001b[0m \u001b[1m1s\u001b[0m 7ms/step - dense_2_loss: 1.1066 - dense_3_loss: 0.9673 - dense_4_loss: 0.2085 - loss: 2.2828\n",
      "Epoch 72/100\n",
      "\u001b[1m69/69\u001b[0m \u001b[32m━━━━━━━━━━━━━━━━━━━━\u001b[0m\u001b[37m\u001b[0m \u001b[1m1s\u001b[0m 7ms/step - dense_2_loss: 0.8524 - dense_3_loss: 0.7469 - dense_4_loss: 0.1135 - loss: 1.7132\n",
      "Epoch 73/100\n",
      "\u001b[1m69/69\u001b[0m \u001b[32m━━━━━━━━━━━━━━━━━━━━\u001b[0m\u001b[37m\u001b[0m \u001b[1m1s\u001b[0m 6ms/step - dense_2_loss: 0.9970 - dense_3_loss: 0.5233 - dense_4_loss: 0.1813 - loss: 1.7019\n",
      "Epoch 74/100\n",
      "\u001b[1m69/69\u001b[0m \u001b[32m━━━━━━━━━━━━━━━━━━━━\u001b[0m\u001b[37m\u001b[0m \u001b[1m1s\u001b[0m 6ms/step - dense_2_loss: 0.8490 - dense_3_loss: 0.5850 - dense_4_loss: 0.0889 - loss: 1.5233\n",
      "Epoch 75/100\n",
      "\u001b[1m69/69\u001b[0m \u001b[32m━━━━━━━━━━━━━━━━━━━━\u001b[0m\u001b[37m\u001b[0m \u001b[1m1s\u001b[0m 7ms/step - dense_2_loss: 1.0377 - dense_3_loss: 0.8736 - dense_4_loss: 0.1498 - loss: 2.0616\n",
      "Epoch 76/100\n",
      "\u001b[1m69/69\u001b[0m \u001b[32m━━━━━━━━━━━━━━━━━━━━\u001b[0m\u001b[37m\u001b[0m \u001b[1m1s\u001b[0m 7ms/step - dense_2_loss: 1.0215 - dense_3_loss: 0.5435 - dense_4_loss: 0.0997 - loss: 1.6651\n",
      "Epoch 77/100\n",
      "\u001b[1m69/69\u001b[0m \u001b[32m━━━━━━━━━━━━━━━━━━━━\u001b[0m\u001b[37m\u001b[0m \u001b[1m1s\u001b[0m 7ms/step - dense_2_loss: 1.3307 - dense_3_loss: 0.9185 - dense_4_loss: 0.1192 - loss: 2.3688\n",
      "Epoch 78/100\n",
      "\u001b[1m69/69\u001b[0m \u001b[32m━━━━━━━━━━━━━━━━━━━━\u001b[0m\u001b[37m\u001b[0m \u001b[1m1s\u001b[0m 7ms/step - dense_2_loss: 1.0371 - dense_3_loss: 0.6069 - dense_4_loss: 0.0826 - loss: 1.7265\n",
      "Epoch 79/100\n",
      "\u001b[1m69/69\u001b[0m \u001b[32m━━━━━━━━━━━━━━━━━━━━\u001b[0m\u001b[37m\u001b[0m \u001b[1m1s\u001b[0m 7ms/step - dense_2_loss: 1.6584 - dense_3_loss: 0.9605 - dense_4_loss: 0.1187 - loss: 2.7378\n",
      "Epoch 80/100\n",
      "\u001b[1m69/69\u001b[0m \u001b[32m━━━━━━━━━━━━━━━━━━━━\u001b[0m\u001b[37m\u001b[0m \u001b[1m1s\u001b[0m 7ms/step - dense_2_loss: 0.8946 - dense_3_loss: 0.5200 - dense_4_loss: 0.1251 - loss: 1.5400\n",
      "Epoch 81/100\n",
      "\u001b[1m69/69\u001b[0m \u001b[32m━━━━━━━━━━━━━━━━━━━━\u001b[0m\u001b[37m\u001b[0m \u001b[1m1s\u001b[0m 7ms/step - dense_2_loss: 1.5515 - dense_3_loss: 1.3347 - dense_4_loss: 0.1723 - loss: 3.0590\n",
      "Epoch 82/100\n",
      "\u001b[1m69/69\u001b[0m \u001b[32m━━━━━━━━━━━━━━━━━━━━\u001b[0m\u001b[37m\u001b[0m \u001b[1m1s\u001b[0m 7ms/step - dense_2_loss: 1.3556 - dense_3_loss: 0.7800 - dense_4_loss: 0.1843 - loss: 2.3196\n",
      "Epoch 83/100\n",
      "\u001b[1m69/69\u001b[0m \u001b[32m━━━━━━━━━━━━━━━━━━━━\u001b[0m\u001b[37m\u001b[0m \u001b[1m1s\u001b[0m 7ms/step - dense_2_loss: 6.5981 - dense_3_loss: 2.3469 - dense_4_loss: 0.8841 - loss: 9.8287\n",
      "Epoch 84/100\n",
      "\u001b[1m69/69\u001b[0m \u001b[32m━━━━━━━━━━━━━━━━━━━━\u001b[0m\u001b[37m\u001b[0m \u001b[1m1s\u001b[0m 7ms/step - dense_2_loss: 6.2125 - dense_3_loss: 2.5361 - dense_4_loss: 2.3094 - loss: 11.0601\n",
      "Epoch 85/100\n",
      "\u001b[1m69/69\u001b[0m \u001b[32m━━━━━━━━━━━━━━━━━━━━\u001b[0m\u001b[37m\u001b[0m \u001b[1m1s\u001b[0m 7ms/step - dense_2_loss: 1.1000 - dense_3_loss: 0.6370 - dense_4_loss: 0.1084 - loss: 1.8457\n",
      "Epoch 86/100\n",
      "\u001b[1m69/69\u001b[0m \u001b[32m━━━━━━━━━━━━━━━━━━━━\u001b[0m\u001b[37m\u001b[0m \u001b[1m1s\u001b[0m 7ms/step - dense_2_loss: 1.0579 - dense_3_loss: 0.4920 - dense_4_loss: 0.1344 - loss: 1.6847\n",
      "Epoch 87/100\n",
      "\u001b[1m69/69\u001b[0m \u001b[32m━━━━━━━━━━━━━━━━━━━━\u001b[0m\u001b[37m\u001b[0m \u001b[1m1s\u001b[0m 7ms/step - dense_2_loss: 1.0778 - dense_3_loss: 0.7966 - dense_4_loss: 0.1559 - loss: 2.0307\n",
      "Epoch 88/100\n",
      "\u001b[1m69/69\u001b[0m \u001b[32m━━━━━━━━━━━━━━━━━━━━\u001b[0m\u001b[37m\u001b[0m \u001b[1m1s\u001b[0m 6ms/step - dense_2_loss: 0.7766 - dense_3_loss: 0.6427 - dense_4_loss: 0.1910 - loss: 1.6106\n",
      "Epoch 89/100\n",
      "\u001b[1m69/69\u001b[0m \u001b[32m━━━━━━━━━━━━━━━━━━━━\u001b[0m\u001b[37m\u001b[0m \u001b[1m0s\u001b[0m 6ms/step - dense_2_loss: 0.5507 - dense_3_loss: 0.4196 - dense_4_loss: 0.2200 - loss: 1.1882\n",
      "Epoch 90/100\n",
      "\u001b[1m69/69\u001b[0m \u001b[32m━━━━━━━━━━━━━━━━━━━━\u001b[0m\u001b[37m\u001b[0m \u001b[1m1s\u001b[0m 7ms/step - dense_2_loss: 1.2596 - dense_3_loss: 0.8536 - dense_4_loss: 0.3650 - loss: 2.4787\n",
      "Epoch 91/100\n",
      "\u001b[1m69/69\u001b[0m \u001b[32m━━━━━━━━━━━━━━━━━━━━\u001b[0m\u001b[37m\u001b[0m \u001b[1m1s\u001b[0m 7ms/step - dense_2_loss: 0.9862 - dense_3_loss: 0.8548 - dense_4_loss: 0.1660 - loss: 2.0075\n",
      "Epoch 92/100\n",
      "\u001b[1m69/69\u001b[0m \u001b[32m━━━━━━━━━━━━━━━━━━━━\u001b[0m\u001b[37m\u001b[0m \u001b[1m1s\u001b[0m 7ms/step - dense_2_loss: 0.9781 - dense_3_loss: 0.7361 - dense_4_loss: 0.1169 - loss: 1.8318\n",
      "Epoch 93/100\n",
      "\u001b[1m69/69\u001b[0m \u001b[32m━━━━━━━━━━━━━━━━━━━━\u001b[0m\u001b[37m\u001b[0m \u001b[1m1s\u001b[0m 7ms/step - dense_2_loss: 0.9222 - dense_3_loss: 0.7791 - dense_4_loss: 0.2078 - loss: 1.9091\n",
      "Epoch 94/100\n",
      "\u001b[1m69/69\u001b[0m \u001b[32m━━━━━━━━━━━━━━━━━━━━\u001b[0m\u001b[37m\u001b[0m \u001b[1m1s\u001b[0m 7ms/step - dense_2_loss: 1.3668 - dense_3_loss: 0.8432 - dense_4_loss: 0.5926 - loss: 2.8031\n",
      "Epoch 95/100\n",
      "\u001b[1m69/69\u001b[0m \u001b[32m━━━━━━━━━━━━━━━━━━━━\u001b[0m\u001b[37m\u001b[0m \u001b[1m1s\u001b[0m 7ms/step - dense_2_loss: 0.7595 - dense_3_loss: 0.5090 - dense_4_loss: 0.5438 - loss: 1.8121\n",
      "Epoch 96/100\n",
      "\u001b[1m69/69\u001b[0m \u001b[32m━━━━━━━━━━━━━━━━━━━━\u001b[0m\u001b[37m\u001b[0m \u001b[1m1s\u001b[0m 7ms/step - dense_2_loss: 1.5889 - dense_3_loss: 0.8726 - dense_4_loss: 1.3479 - loss: 3.8099\n",
      "Epoch 97/100\n",
      "\u001b[1m69/69\u001b[0m \u001b[32m━━━━━━━━━━━━━━━━━━━━\u001b[0m\u001b[37m\u001b[0m \u001b[1m1s\u001b[0m 8ms/step - dense_2_loss: 1.7474 - dense_3_loss: 0.6947 - dense_4_loss: 0.7293 - loss: 3.1720\n",
      "Epoch 98/100\n",
      "\u001b[1m69/69\u001b[0m \u001b[32m━━━━━━━━━━━━━━━━━━━━\u001b[0m\u001b[37m\u001b[0m \u001b[1m1s\u001b[0m 7ms/step - dense_2_loss: 1.3012 - dense_3_loss: 0.6922 - dense_4_loss: 0.4138 - loss: 2.4074\n",
      "Epoch 99/100\n",
      "\u001b[1m69/69\u001b[0m \u001b[32m━━━━━━━━━━━━━━━━━━━━\u001b[0m\u001b[37m\u001b[0m \u001b[1m1s\u001b[0m 7ms/step - dense_2_loss: 1.6003 - dense_3_loss: 1.1397 - dense_4_loss: 0.4855 - loss: 3.2254\n",
      "Epoch 100/100\n",
      "\u001b[1m69/69\u001b[0m \u001b[32m━━━━━━━━━━━━━━━━━━━━\u001b[0m\u001b[37m\u001b[0m \u001b[1m1s\u001b[0m 7ms/step - dense_2_loss: 1.9747 - dense_3_loss: 1.3550 - dense_4_loss: 0.6734 - loss: 4.0038\n"
     ]
    },
    {
     "data": {
      "text/plain": [
       "<keras.src.callbacks.history.History at 0x1d1e85daa20>"
      ]
     },
     "execution_count": 38,
     "metadata": {},
     "output_type": "execute_result"
    }
   ],
   "source": [
    "regressor.fit(X, [y_na, y_eu, y_jp], epochs = 100, batch_size = 100)"
   ]
  },
  {
   "cell_type": "code",
   "execution_count": 40,
   "metadata": {},
   "outputs": [
    {
     "name": "stdout",
     "output_type": "stream",
     "text": [
      "\u001b[1m214/214\u001b[0m \u001b[32m━━━━━━━━━━━━━━━━━━━━\u001b[0m\u001b[37m\u001b[0m \u001b[1m0s\u001b[0m 860us/step\n"
     ]
    }
   ],
   "source": [
    "previsao_na, previsao_eu, previsao_jp = regressor.predict(X)"
   ]
  },
  {
   "cell_type": "code",
   "execution_count": 43,
   "metadata": {},
   "outputs": [
    {
     "data": {
      "text/plain": [
       "(array([[ 2.5779917 ],\n",
       "        [ 3.235518  ],\n",
       "        [ 2.489273  ],\n",
       "        ...,\n",
       "        [ 0.34672663],\n",
       "        [ 0.01703736],\n",
       "        [-0.1506181 ]], dtype=float32),\n",
       " 0.7869846)"
      ]
     },
     "execution_count": 43,
     "metadata": {},
     "output_type": "execute_result"
    }
   ],
   "source": [
    "previsao_na, previsao_na.mean()"
   ]
  },
  {
   "cell_type": "code",
   "execution_count": 44,
   "metadata": {},
   "outputs": [
    {
     "data": {
      "text/plain": [
       "(array([4.136e+01, 1.568e+01, 1.561e+01, ..., 0.000e+00, 1.000e-02,\n",
       "        0.000e+00]),\n",
       " 0.3944835164835165)"
      ]
     },
     "execution_count": 44,
     "metadata": {},
     "output_type": "execute_result"
    }
   ],
   "source": [
    "y_na, y_na.mean()"
   ]
  },
  {
   "cell_type": "code",
   "execution_count": 45,
   "metadata": {},
   "outputs": [],
   "source": [
    "from sklearn.metrics import mean_absolute_error"
   ]
  },
  {
   "cell_type": "code",
   "execution_count": 46,
   "metadata": {},
   "outputs": [
    {
     "data": {
      "text/plain": [
       "0.57022112112277"
      ]
     },
     "execution_count": 46,
     "metadata": {},
     "output_type": "execute_result"
    }
   ],
   "source": [
    "mean_absolute_error(y_na, previsao_na)"
   ]
  },
  {
   "cell_type": "code",
   "execution_count": 47,
   "metadata": {},
   "outputs": [
    {
     "data": {
      "text/plain": [
       "(array([[ 0.72520304],\n",
       "        [ 1.425036  ],\n",
       "        [ 0.5740094 ],\n",
       "        ...,\n",
       "        [-0.8408427 ],\n",
       "        [-0.7326796 ],\n",
       "        [-0.7034843 ]], dtype=float32),\n",
       " -0.18109329)"
      ]
     },
     "execution_count": 47,
     "metadata": {},
     "output_type": "execute_result"
    }
   ],
   "source": [
    "previsao_eu, previsao_eu.mean()"
   ]
  },
  {
   "cell_type": "code",
   "execution_count": 48,
   "metadata": {},
   "outputs": [
    {
     "data": {
      "text/plain": [
       "(array([2.896e+01, 1.276e+01, 1.093e+01, ..., 1.000e-02, 0.000e+00,\n",
       "        1.000e-02]),\n",
       " 0.23608937728937732)"
      ]
     },
     "execution_count": 48,
     "metadata": {},
     "output_type": "execute_result"
    }
   ],
   "source": [
    "y_eu, y_eu.mean()"
   ]
  },
  {
   "cell_type": "code",
   "execution_count": 51,
   "metadata": {},
   "outputs": [
    {
     "data": {
      "text/plain": [
       "0.4476002404696434"
      ]
     },
     "execution_count": 51,
     "metadata": {},
     "output_type": "execute_result"
    }
   ],
   "source": [
    "mean_absolute_error(y_eu, previsao_eu)"
   ]
  },
  {
   "cell_type": "code",
   "execution_count": 49,
   "metadata": {},
   "outputs": [
    {
     "data": {
      "text/plain": [
       "(array([[-0.7003378 ],\n",
       "        [-1.0341038 ],\n",
       "        [-0.64904827],\n",
       "        ...,\n",
       "        [-1.3888568 ],\n",
       "        [-1.6025361 ],\n",
       "        [-1.6417903 ]], dtype=float32),\n",
       " -1.4237758)"
      ]
     },
     "execution_count": 49,
     "metadata": {},
     "output_type": "execute_result"
    }
   ],
   "source": [
    "previsao_jp, previsao_jp.mean()"
   ]
  },
  {
   "cell_type": "code",
   "execution_count": 50,
   "metadata": {},
   "outputs": [
    {
     "data": {
      "text/plain": [
       "(array([3.77, 3.79, 3.28, ..., 0.  , 0.  , 0.  ]), 0.06415824175824175)"
      ]
     },
     "execution_count": 50,
     "metadata": {},
     "output_type": "execute_result"
    }
   ],
   "source": [
    "y_jp, y_jp.mean()"
   ]
  },
  {
   "cell_type": "code",
   "execution_count": 52,
   "metadata": {},
   "outputs": [
    {
     "data": {
      "text/plain": [
       "1.4879340139922643"
      ]
     },
     "execution_count": 52,
     "metadata": {},
     "output_type": "execute_result"
    }
   ],
   "source": [
    "mean_absolute_error(y_jp, previsao_jp)"
   ]
  }
 ],
 "metadata": {
  "kernelspec": {
   "display_name": "python",
   "language": "python",
   "name": "python3"
  },
  "language_info": {
   "codemirror_mode": {
    "name": "ipython",
    "version": 3
   },
   "file_extension": ".py",
   "mimetype": "text/x-python",
   "name": "python",
   "nbconvert_exporter": "python",
   "pygments_lexer": "ipython3",
   "version": "3.12.8"
  }
 },
 "nbformat": 4,
 "nbformat_minor": 2
}
